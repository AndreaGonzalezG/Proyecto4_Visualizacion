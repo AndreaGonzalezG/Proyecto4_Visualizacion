{
 "cells": [
  {
   "cell_type": "markdown",
   "metadata": {},
   "source": [
    "Librerías y configuraciones"
   ]
  },
  {
   "cell_type": "code",
   "execution_count": 1,
   "metadata": {},
   "outputs": [],
   "source": [
    "# Importamos las librerías que necesitamos\n",
    "# \n",
    "# Tratamiento de datos\n",
    "# -----------------------------------------------------------------------\n",
    "import pandas as pd\n",
    "import numpy as np\n",
    "\n",
    "# Visualización\n",
    "# ------------------------------------------------------------------------------\n",
    "import matplotlib.pyplot as plt\n",
    "import seaborn as sns\n",
    "\n",
    "\n",
    "# Imputación de nulos usando métodos avanzados estadísticos\n",
    "# -----------------------------------------------------------------------\n",
    "from sklearn.impute import SimpleImputer\n",
    "from sklearn.experimental import enable_iterative_imputer\n",
    "from sklearn.impute import IterativeImputer\n",
    "from sklearn.impute import KNNImputer\n",
    "\n",
    "# Evaluar linealidad de las relaciones entre las variables\n",
    "# y la distribución de las variables\n",
    "# ------------------------------------------------------------------------------\n",
    "#import scipy.stats as stats\n",
    "import scipy.stats as stats\n",
    "from scipy.stats import shapiro, poisson, chisquare, expon, kstest\n",
    "\n",
    "# Configuraciones\n",
    "# -----------------------------------------------------------------------\n",
    "pd.set_option('display.max_columns', None)\n",
    "pd.set_option('display.max_colwidth', None)"
   ]
  },
  {
   "cell_type": "markdown",
   "metadata": {},
   "source": [
    "Abrimos archivos para hacer el EDA de ventas."
   ]
  },
  {
   "cell_type": "code",
   "execution_count": 4,
   "metadata": {},
   "outputs": [],
   "source": [
    "df_c = pd.read_csv('clientes.csv')\n",
    "df_p = pd.read_csv('productos.csv')\n",
    "df_v = pd.read_csv('ventas.csv')"
   ]
  },
  {
   "cell_type": "code",
   "execution_count": 5,
   "metadata": {},
   "outputs": [
    {
     "name": "stdout",
     "output_type": "stream",
     "text": [
      "<class 'pandas.core.frame.DataFrame'>\n",
      "RangeIndex: 80000 entries, 0 to 79999\n",
      "Data columns (total 5 columns):\n",
      " #   Column       Non-Null Count  Dtype \n",
      "---  ------       --------------  ----- \n",
      " 0   id_venta     80000 non-null  object\n",
      " 1   id_producto  80000 non-null  object\n",
      " 2   cantidad     80000 non-null  int64 \n",
      " 3   fecha        80000 non-null  object\n",
      " 4   id_cliente   80000 non-null  object\n",
      "dtypes: int64(1), object(4)\n",
      "memory usage: 3.1+ MB\n"
     ]
    }
   ],
   "source": [
    "df_v.info()"
   ]
  },
  {
   "cell_type": "code",
   "execution_count": 20,
   "metadata": {},
   "outputs": [
    {
     "data": {
      "text/plain": [
       "id_venta       0\n",
       "id_producto    0\n",
       "cantidad       0\n",
       "fecha          0\n",
       "id_cliente     0\n",
       "dtype: int64"
      ]
     },
     "execution_count": 20,
     "metadata": {},
     "output_type": "execute_result"
    }
   ],
   "source": [
    "df_v.isnull().sum()"
   ]
  },
  {
   "cell_type": "code",
   "execution_count": 21,
   "metadata": {},
   "outputs": [
    {
     "data": {
      "text/plain": [
       "80"
      ]
     },
     "execution_count": 21,
     "metadata": {},
     "output_type": "execute_result"
    }
   ],
   "source": [
    "df_v.duplicated().sum()"
   ]
  },
  {
   "cell_type": "code",
   "execution_count": 23,
   "metadata": {},
   "outputs": [
    {
     "data": {
      "text/plain": [
       "(80, 5)"
      ]
     },
     "execution_count": 23,
     "metadata": {},
     "output_type": "execute_result"
    }
   ],
   "source": [
    "df_v_duplicados = df_v[df_v.duplicated()]\n",
    "df_v_duplicados.shape"
   ]
  },
  {
   "cell_type": "code",
   "execution_count": 31,
   "metadata": {},
   "outputs": [
    {
     "data": {
      "text/html": [
       "<div>\n",
       "<style scoped>\n",
       "    .dataframe tbody tr th:only-of-type {\n",
       "        vertical-align: middle;\n",
       "    }\n",
       "\n",
       "    .dataframe tbody tr th {\n",
       "        vertical-align: top;\n",
       "    }\n",
       "\n",
       "    .dataframe thead th {\n",
       "        text-align: right;\n",
       "    }\n",
       "</style>\n",
       "<table border=\"1\" class=\"dataframe\">\n",
       "  <thead>\n",
       "    <tr style=\"text-align: right;\">\n",
       "      <th></th>\n",
       "      <th>id_venta</th>\n",
       "      <th>id_producto</th>\n",
       "      <th>cantidad</th>\n",
       "      <th>fecha</th>\n",
       "      <th>id_cliente</th>\n",
       "    </tr>\n",
       "  </thead>\n",
       "  <tbody>\n",
       "    <tr>\n",
       "      <th>6694</th>\n",
       "      <td>V004648</td>\n",
       "      <td>P0434</td>\n",
       "      <td>5</td>\n",
       "      <td>2021-06-28</td>\n",
       "      <td>C0263</td>\n",
       "    </tr>\n",
       "    <tr>\n",
       "      <th>8773</th>\n",
       "      <td>V001670</td>\n",
       "      <td>P0483</td>\n",
       "      <td>4</td>\n",
       "      <td>2020-07-31</td>\n",
       "      <td>C0017</td>\n",
       "    </tr>\n",
       "    <tr>\n",
       "      <th>10797</th>\n",
       "      <td>V004342</td>\n",
       "      <td>P0336</td>\n",
       "      <td>3</td>\n",
       "      <td>2020-05-27</td>\n",
       "      <td>C0267</td>\n",
       "    </tr>\n",
       "    <tr>\n",
       "      <th>10967</th>\n",
       "      <td>V004143</td>\n",
       "      <td>P0373</td>\n",
       "      <td>4</td>\n",
       "      <td>2021-11-18</td>\n",
       "      <td>C0300</td>\n",
       "    </tr>\n",
       "    <tr>\n",
       "      <th>12262</th>\n",
       "      <td>V003463</td>\n",
       "      <td>P0181</td>\n",
       "      <td>6</td>\n",
       "      <td>2021-06-16</td>\n",
       "      <td>C0070</td>\n",
       "    </tr>\n",
       "  </tbody>\n",
       "</table>\n",
       "</div>"
      ],
      "text/plain": [
       "      id_venta id_producto  cantidad       fecha id_cliente\n",
       "6694   V004648       P0434         5  2021-06-28      C0263\n",
       "8773   V001670       P0483         4  2020-07-31      C0017\n",
       "10797  V004342       P0336         3  2020-05-27      C0267\n",
       "10967  V004143       P0373         4  2021-11-18      C0300\n",
       "12262  V003463       P0181         6  2021-06-16      C0070"
      ]
     },
     "execution_count": 31,
     "metadata": {},
     "output_type": "execute_result"
    }
   ],
   "source": [
    "df_v_duplicados.head()"
   ]
  },
  {
   "cell_type": "code",
   "execution_count": null,
   "metadata": {},
   "outputs": [],
   "source": [
    "# Elimino registros duplicados\n",
    "\n",
    "registros_duplicados = df_CFA.duplicated()[df_CFA.duplicated()==True]\n",
    "filas_a_eliminar = registros_duplicados.index.to_list() # Pasamos a lista los índices de los registros duplicados sin información útil\n",
    "df_CFA_sin_duplicados = df_CFA.drop(filas_a_eliminar, axis=0)\n",
    "a = df_CFA.shape\n",
    "b = df_CFA_sin_duplicados.shape\n",
    "\n",
    "print(f\"Hay {df_CFA_sin_duplicados.duplicated().sum()} registros duplicados\")\n"
   ]
  },
  {
   "cell_type": "markdown",
   "metadata": {},
   "source": [
    "Eliminamos los duplicados."
   ]
  },
  {
   "cell_type": "code",
   "execution_count": 34,
   "metadata": {},
   "outputs": [],
   "source": [
    "registros_duplicados = df_v_duplicados.index.tolist()\n",
    "\n",
    "df_v_limpio = df_v.drop(registros_duplicados, axis=0)"
   ]
  },
  {
   "cell_type": "code",
   "execution_count": 38,
   "metadata": {},
   "outputs": [
    {
     "data": {
      "text/plain": [
       "0"
      ]
     },
     "execution_count": 38,
     "metadata": {},
     "output_type": "execute_result"
    }
   ],
   "source": [
    "df_v_limpio.duplicated().sum()"
   ]
  },
  {
   "cell_type": "code",
   "execution_count": 39,
   "metadata": {},
   "outputs": [
    {
     "name": "stdout",
     "output_type": "stream",
     "text": [
      "<class 'pandas.core.frame.DataFrame'>\n",
      "Index: 79920 entries, 0 to 79999\n",
      "Data columns (total 5 columns):\n",
      " #   Column       Non-Null Count  Dtype \n",
      "---  ------       --------------  ----- \n",
      " 0   id_venta     79920 non-null  object\n",
      " 1   id_producto  79920 non-null  object\n",
      " 2   cantidad     79920 non-null  int64 \n",
      " 3   fecha        79920 non-null  object\n",
      " 4   id_cliente   79920 non-null  object\n",
      "dtypes: int64(1), object(4)\n",
      "memory usage: 3.7+ MB\n"
     ]
    }
   ],
   "source": [
    "df_v_limpio.info()"
   ]
  },
  {
   "cell_type": "markdown",
   "metadata": {},
   "source": [
    "Convierto la fecha a tipo datetime"
   ]
  },
  {
   "cell_type": "code",
   "execution_count": 46,
   "metadata": {},
   "outputs": [],
   "source": [
    "df_v_limpio['fecha'] = pd.to_datetime(df_v['fecha'])"
   ]
  },
  {
   "cell_type": "markdown",
   "metadata": {},
   "source": [
    "No hay nulos ✔\n",
    "La fecha podría ser formato fecha ✔\n",
    "Resto de columnas tienen tipos de datos correctos ✔\n",
    "Eliminar 80 duplicados ✔ "
   ]
  },
  {
   "cell_type": "markdown",
   "metadata": {},
   "source": [
    "Termino de analizar"
   ]
  },
  {
   "cell_type": "code",
   "execution_count": 50,
   "metadata": {},
   "outputs": [
    {
     "data": {
      "text/html": [
       "<div>\n",
       "<style scoped>\n",
       "    .dataframe tbody tr th:only-of-type {\n",
       "        vertical-align: middle;\n",
       "    }\n",
       "\n",
       "    .dataframe tbody tr th {\n",
       "        vertical-align: top;\n",
       "    }\n",
       "\n",
       "    .dataframe thead th {\n",
       "        text-align: right;\n",
       "    }\n",
       "</style>\n",
       "<table border=\"1\" class=\"dataframe\">\n",
       "  <thead>\n",
       "    <tr style=\"text-align: right;\">\n",
       "      <th></th>\n",
       "      <th>count</th>\n",
       "      <th>mean</th>\n",
       "      <th>min</th>\n",
       "      <th>25%</th>\n",
       "      <th>50%</th>\n",
       "      <th>75%</th>\n",
       "      <th>max</th>\n",
       "      <th>std</th>\n",
       "    </tr>\n",
       "  </thead>\n",
       "  <tbody>\n",
       "    <tr>\n",
       "      <th>cantidad</th>\n",
       "      <td>79920.0</td>\n",
       "      <td>5.504204</td>\n",
       "      <td>1.0</td>\n",
       "      <td>3.0</td>\n",
       "      <td>6.0</td>\n",
       "      <td>8.0</td>\n",
       "      <td>10.0</td>\n",
       "      <td>2.874844</td>\n",
       "    </tr>\n",
       "    <tr>\n",
       "      <th>fecha</th>\n",
       "      <td>79920</td>\n",
       "      <td>2022-03-30 18:49:59.999999744</td>\n",
       "      <td>2020-01-01 00:00:00</td>\n",
       "      <td>2021-02-10 00:00:00</td>\n",
       "      <td>2022-03-28 00:00:00</td>\n",
       "      <td>2023-05-13 00:00:00</td>\n",
       "      <td>2024-07-09 00:00:00</td>\n",
       "      <td>NaN</td>\n",
       "    </tr>\n",
       "  </tbody>\n",
       "</table>\n",
       "</div>"
      ],
      "text/plain": [
       "            count                           mean                  min  \\\n",
       "cantidad  79920.0                       5.504204                  1.0   \n",
       "fecha       79920  2022-03-30 18:49:59.999999744  2020-01-01 00:00:00   \n",
       "\n",
       "                          25%                  50%                  75%  \\\n",
       "cantidad                  3.0                  6.0                  8.0   \n",
       "fecha     2021-02-10 00:00:00  2022-03-28 00:00:00  2023-05-13 00:00:00   \n",
       "\n",
       "                          max       std  \n",
       "cantidad                 10.0  2.874844  \n",
       "fecha     2024-07-09 00:00:00       NaN  "
      ]
     },
     "execution_count": 50,
     "metadata": {},
     "output_type": "execute_result"
    }
   ],
   "source": [
    "df_v_limpio.describe().T"
   ]
  },
  {
   "cell_type": "code",
   "execution_count": 51,
   "metadata": {},
   "outputs": [
    {
     "data": {
      "text/html": [
       "<div>\n",
       "<style scoped>\n",
       "    .dataframe tbody tr th:only-of-type {\n",
       "        vertical-align: middle;\n",
       "    }\n",
       "\n",
       "    .dataframe tbody tr th {\n",
       "        vertical-align: top;\n",
       "    }\n",
       "\n",
       "    .dataframe thead th {\n",
       "        text-align: right;\n",
       "    }\n",
       "</style>\n",
       "<table border=\"1\" class=\"dataframe\">\n",
       "  <thead>\n",
       "    <tr style=\"text-align: right;\">\n",
       "      <th></th>\n",
       "      <th>count</th>\n",
       "      <th>unique</th>\n",
       "      <th>top</th>\n",
       "      <th>freq</th>\n",
       "    </tr>\n",
       "  </thead>\n",
       "  <tbody>\n",
       "    <tr>\n",
       "      <th>id_venta</th>\n",
       "      <td>79920</td>\n",
       "      <td>8000</td>\n",
       "      <td>V005860</td>\n",
       "      <td>23</td>\n",
       "    </tr>\n",
       "    <tr>\n",
       "      <th>id_producto</th>\n",
       "      <td>79920</td>\n",
       "      <td>480</td>\n",
       "      <td>P0057</td>\n",
       "      <td>209</td>\n",
       "    </tr>\n",
       "    <tr>\n",
       "      <th>id_cliente</th>\n",
       "      <td>79920</td>\n",
       "      <td>210</td>\n",
       "      <td>C0092</td>\n",
       "      <td>552</td>\n",
       "    </tr>\n",
       "  </tbody>\n",
       "</table>\n",
       "</div>"
      ],
      "text/plain": [
       "             count unique      top freq\n",
       "id_venta     79920   8000  V005860   23\n",
       "id_producto  79920    480    P0057  209\n",
       "id_cliente   79920    210    C0092  552"
      ]
     },
     "execution_count": 51,
     "metadata": {},
     "output_type": "execute_result"
    }
   ],
   "source": [
    "df_v_limpio.describe(include='object').T"
   ]
  },
  {
   "cell_type": "markdown",
   "metadata": {},
   "source": [
    "Exporto el dataframe limpio de ventas a .csv "
   ]
  },
  {
   "cell_type": "code",
   "execution_count": 52,
   "metadata": {},
   "outputs": [],
   "source": [
    "df_v_limpio.to_csv('ventas_limpio.csv')"
   ]
  },
  {
   "cell_type": "markdown",
   "metadata": {},
   "source": []
  },
  {
   "cell_type": "code",
   "execution_count": 54,
   "metadata": {},
   "outputs": [
    {
     "data": {
      "text/plain": [
       "'id_venta'"
      ]
     },
     "metadata": {},
     "output_type": "display_data"
    },
    {
     "data": {
      "text/plain": [
       "<bound method IndexOpsMixin.value_counts of 0        V004849\n",
       "1        V003181\n",
       "2        V000311\n",
       "3        V002787\n",
       "4        V002726\n",
       "          ...   \n",
       "79995    V005600\n",
       "79996    V003626\n",
       "79997    V005697\n",
       "79998    V005529\n",
       "79999    V004788\n",
       "Name: id_venta, Length: 79920, dtype: object>"
      ]
     },
     "metadata": {},
     "output_type": "display_data"
    },
    {
     "data": {
      "text/plain": [
       "'id_producto'"
      ]
     },
     "metadata": {},
     "output_type": "display_data"
    },
    {
     "data": {
      "text/plain": [
       "<bound method IndexOpsMixin.value_counts of 0        P0173\n",
       "1        P0165\n",
       "2        P0194\n",
       "3        P0167\n",
       "4        P0417\n",
       "         ...  \n",
       "79995    P0264\n",
       "79996    P0564\n",
       "79997    P0544\n",
       "79998    P0414\n",
       "79999    P0589\n",
       "Name: id_producto, Length: 79920, dtype: object>"
      ]
     },
     "metadata": {},
     "output_type": "display_data"
    },
    {
     "data": {
      "text/plain": [
       "'cantidad'"
      ]
     },
     "metadata": {},
     "output_type": "display_data"
    },
    {
     "data": {
      "text/plain": [
       "<bound method IndexOpsMixin.value_counts of 0         4\n",
       "1         9\n",
       "2        10\n",
       "3         1\n",
       "4        10\n",
       "         ..\n",
       "79995     7\n",
       "79996     1\n",
       "79997     4\n",
       "79998     4\n",
       "79999     9\n",
       "Name: cantidad, Length: 79920, dtype: int64>"
      ]
     },
     "metadata": {},
     "output_type": "display_data"
    },
    {
     "data": {
      "text/plain": [
       "'fecha'"
      ]
     },
     "metadata": {},
     "output_type": "display_data"
    },
    {
     "data": {
      "text/plain": [
       "<bound method IndexOpsMixin.value_counts of 0       2024-05-16\n",
       "1       2022-09-12\n",
       "2       2020-12-02\n",
       "3       2023-07-22\n",
       "4       2022-04-10\n",
       "           ...    \n",
       "79995   2023-02-26\n",
       "79996   2024-01-20\n",
       "79997   2023-01-21\n",
       "79998   2023-09-02\n",
       "79999   2020-01-03\n",
       "Name: fecha, Length: 79920, dtype: datetime64[ns]>"
      ]
     },
     "metadata": {},
     "output_type": "display_data"
    },
    {
     "data": {
      "text/plain": [
       "'id_cliente'"
      ]
     },
     "metadata": {},
     "output_type": "display_data"
    },
    {
     "data": {
      "text/plain": [
       "<bound method IndexOpsMixin.value_counts of 0        C0203\n",
       "1        C0004\n",
       "2        C0156\n",
       "3        C0058\n",
       "4        C0099\n",
       "         ...  \n",
       "79995    C0167\n",
       "79996    C0143\n",
       "79997    C0147\n",
       "79998    C0226\n",
       "79999    C0222\n",
       "Name: id_cliente, Length: 79920, dtype: object>"
      ]
     },
     "metadata": {},
     "output_type": "display_data"
    }
   ],
   "source": [
    "for c in df_v_limpio.columns:\n",
    "    display(c, df_v_limpio[c].value_counts)\n"
   ]
  },
  {
   "cell_type": "markdown",
   "metadata": {},
   "source": [
    "Examino el resto de dataframes"
   ]
  },
  {
   "cell_type": "code",
   "execution_count": 10,
   "metadata": {},
   "outputs": [
    {
     "data": {
      "text/html": [
       "<div>\n",
       "<style scoped>\n",
       "    .dataframe tbody tr th:only-of-type {\n",
       "        vertical-align: middle;\n",
       "    }\n",
       "\n",
       "    .dataframe tbody tr th {\n",
       "        vertical-align: top;\n",
       "    }\n",
       "\n",
       "    .dataframe thead th {\n",
       "        text-align: right;\n",
       "    }\n",
       "</style>\n",
       "<table border=\"1\" class=\"dataframe\">\n",
       "  <thead>\n",
       "    <tr style=\"text-align: right;\">\n",
       "      <th></th>\n",
       "      <th>id_producto</th>\n",
       "      <th>precio</th>\n",
       "      <th>categoria</th>\n",
       "      <th>descripcion</th>\n",
       "    </tr>\n",
       "  </thead>\n",
       "  <tbody>\n",
       "    <tr>\n",
       "      <th>0</th>\n",
       "      <td>P0001</td>\n",
       "      <td>58.91 €</td>\n",
       "      <td>Clothing</td>\n",
       "      <td>6GJFfPug1voQYH3zfXItpbjwRA7VVT64DGtG8VnRXaJJZ0SYJa</td>\n",
       "    </tr>\n",
       "    <tr>\n",
       "      <th>1</th>\n",
       "      <td>P0002</td>\n",
       "      <td>15.67 €</td>\n",
       "      <td>Electronics</td>\n",
       "      <td>Ai3c6EdaRU5C0WuWl718dSYHakqGLiMJmpbVgn7iq6syGN3UJP</td>\n",
       "    </tr>\n",
       "    <tr>\n",
       "      <th>2</th>\n",
       "      <td>P0003</td>\n",
       "      <td>50.58 €</td>\n",
       "      <td>Sports &amp; Outdoors</td>\n",
       "      <td>yMidjq8PGxKEf6YFWfUKJN1sDhyIs2xareF0uaA4ngzUgmrDKc</td>\n",
       "    </tr>\n",
       "    <tr>\n",
       "      <th>3</th>\n",
       "      <td>P0004</td>\n",
       "      <td>72.88 €</td>\n",
       "      <td>Sports &amp; Outdoors</td>\n",
       "      <td>E8LBdxZItLULWZUyKPwzkjZJHD2GOSuqR7Od4DX5624ex1t5lN</td>\n",
       "    </tr>\n",
       "    <tr>\n",
       "      <th>4</th>\n",
       "      <td>P0005</td>\n",
       "      <td>70.23 €</td>\n",
       "      <td>Books</td>\n",
       "      <td>zQLYUssRkFNu2GcCd8xBPrc5xiJH5DGQ66A0X4TFU0cHeazM6o</td>\n",
       "    </tr>\n",
       "    <tr>\n",
       "      <th>...</th>\n",
       "      <td>...</td>\n",
       "      <td>...</td>\n",
       "      <td>...</td>\n",
       "      <td>...</td>\n",
       "    </tr>\n",
       "    <tr>\n",
       "      <th>595</th>\n",
       "      <td>P0596</td>\n",
       "      <td>14.50 €</td>\n",
       "      <td>Home &amp; Kitchen</td>\n",
       "      <td>ooFtlWXZfdN8Lo75Nvdbc0yJpOKbyuSepeKWfjEsagEpNLqU3W</td>\n",
       "    </tr>\n",
       "    <tr>\n",
       "      <th>596</th>\n",
       "      <td>P0597</td>\n",
       "      <td>34.23 €</td>\n",
       "      <td>Electronics</td>\n",
       "      <td>MVubc35s8NZOjMuGchcaDv53uAAA3UYu6iarCEiSmQEFwy2vd5</td>\n",
       "    </tr>\n",
       "    <tr>\n",
       "      <th>597</th>\n",
       "      <td>P0598</td>\n",
       "      <td>31.16 €</td>\n",
       "      <td>Books</td>\n",
       "      <td>ajscjQ9ZQBPQ5eAzbHJXNv1xG8lSYXFi1Zyi66NeAUdU22gZ1s</td>\n",
       "    </tr>\n",
       "    <tr>\n",
       "      <th>598</th>\n",
       "      <td>P0599</td>\n",
       "      <td>72.33 €</td>\n",
       "      <td>Clothing</td>\n",
       "      <td>msikU2NDRKRgfapWE19Kp6QJRdywxHgl81xVR7duwHw1lh8qOI</td>\n",
       "    </tr>\n",
       "    <tr>\n",
       "      <th>599</th>\n",
       "      <td>P0600</td>\n",
       "      <td>41.96 €</td>\n",
       "      <td>Sports &amp; Outdoors</td>\n",
       "      <td>MhSrwtkHwPKXGCwceiETSGg1hyFJAtb8GQ6kQoWECVJgZUM9sq</td>\n",
       "    </tr>\n",
       "  </tbody>\n",
       "</table>\n",
       "<p>600 rows × 4 columns</p>\n",
       "</div>"
      ],
      "text/plain": [
       "    id_producto   precio          categoria  \\\n",
       "0         P0001  58.91 €           Clothing   \n",
       "1         P0002  15.67 €        Electronics   \n",
       "2         P0003  50.58 €  Sports & Outdoors   \n",
       "3         P0004  72.88 €  Sports & Outdoors   \n",
       "4         P0005  70.23 €              Books   \n",
       "..          ...      ...                ...   \n",
       "595       P0596  14.50 €     Home & Kitchen   \n",
       "596       P0597  34.23 €        Electronics   \n",
       "597       P0598  31.16 €              Books   \n",
       "598       P0599  72.33 €           Clothing   \n",
       "599       P0600  41.96 €  Sports & Outdoors   \n",
       "\n",
       "                                            descripcion  \n",
       "0    6GJFfPug1voQYH3zfXItpbjwRA7VVT64DGtG8VnRXaJJZ0SYJa  \n",
       "1    Ai3c6EdaRU5C0WuWl718dSYHakqGLiMJmpbVgn7iq6syGN3UJP  \n",
       "2    yMidjq8PGxKEf6YFWfUKJN1sDhyIs2xareF0uaA4ngzUgmrDKc  \n",
       "3    E8LBdxZItLULWZUyKPwzkjZJHD2GOSuqR7Od4DX5624ex1t5lN  \n",
       "4    zQLYUssRkFNu2GcCd8xBPrc5xiJH5DGQ66A0X4TFU0cHeazM6o  \n",
       "..                                                  ...  \n",
       "595  ooFtlWXZfdN8Lo75Nvdbc0yJpOKbyuSepeKWfjEsagEpNLqU3W  \n",
       "596  MVubc35s8NZOjMuGchcaDv53uAAA3UYu6iarCEiSmQEFwy2vd5  \n",
       "597  ajscjQ9ZQBPQ5eAzbHJXNv1xG8lSYXFi1Zyi66NeAUdU22gZ1s  \n",
       "598  msikU2NDRKRgfapWE19Kp6QJRdywxHgl81xVR7duwHw1lh8qOI  \n",
       "599  MhSrwtkHwPKXGCwceiETSGg1hyFJAtb8GQ6kQoWECVJgZUM9sq  \n",
       "\n",
       "[600 rows x 4 columns]"
      ]
     },
     "execution_count": 10,
     "metadata": {},
     "output_type": "execute_result"
    }
   ],
   "source": [
    "df_p"
   ]
  },
  {
   "cell_type": "code",
   "execution_count": 42,
   "metadata": {},
   "outputs": [
    {
     "data": {
      "text/html": [
       "<div>\n",
       "<style scoped>\n",
       "    .dataframe tbody tr th:only-of-type {\n",
       "        vertical-align: middle;\n",
       "    }\n",
       "\n",
       "    .dataframe tbody tr th {\n",
       "        vertical-align: top;\n",
       "    }\n",
       "\n",
       "    .dataframe thead th {\n",
       "        text-align: right;\n",
       "    }\n",
       "</style>\n",
       "<table border=\"1\" class=\"dataframe\">\n",
       "  <thead>\n",
       "    <tr style=\"text-align: right;\">\n",
       "      <th></th>\n",
       "      <th>id_cliente</th>\n",
       "      <th>nombre</th>\n",
       "      <th>apellido</th>\n",
       "      <th>ciudad</th>\n",
       "    </tr>\n",
       "  </thead>\n",
       "  <tbody>\n",
       "    <tr>\n",
       "      <th>0</th>\n",
       "      <td>C0001</td>\n",
       "      <td>Julia</td>\n",
       "      <td>López</td>\n",
       "      <td>Granada, España</td>\n",
       "    </tr>\n",
       "    <tr>\n",
       "      <th>1</th>\n",
       "      <td>C0002</td>\n",
       "      <td>Elena</td>\n",
       "      <td>Martínez</td>\n",
       "      <td>Granada, España</td>\n",
       "    </tr>\n",
       "    <tr>\n",
       "      <th>2</th>\n",
       "      <td>C0003</td>\n",
       "      <td>Laura</td>\n",
       "      <td>Sánchez</td>\n",
       "      <td>Lyon, Francia</td>\n",
       "    </tr>\n",
       "    <tr>\n",
       "      <th>3</th>\n",
       "      <td>C0004</td>\n",
       "      <td>Marta</td>\n",
       "      <td>López</td>\n",
       "      <td>Valencia, España</td>\n",
       "    </tr>\n",
       "    <tr>\n",
       "      <th>4</th>\n",
       "      <td>C0005</td>\n",
       "      <td>Ana</td>\n",
       "      <td>Martínez</td>\n",
       "      <td>París, Francia</td>\n",
       "    </tr>\n",
       "    <tr>\n",
       "      <th>...</th>\n",
       "      <td>...</td>\n",
       "      <td>...</td>\n",
       "      <td>...</td>\n",
       "      <td>...</td>\n",
       "    </tr>\n",
       "    <tr>\n",
       "      <th>295</th>\n",
       "      <td>C0296</td>\n",
       "      <td>Elena</td>\n",
       "      <td>Rodríguez</td>\n",
       "      <td>Sevilla, España</td>\n",
       "    </tr>\n",
       "    <tr>\n",
       "      <th>296</th>\n",
       "      <td>C0297</td>\n",
       "      <td>Marta</td>\n",
       "      <td>Rodríguez</td>\n",
       "      <td>Zaragoza, España</td>\n",
       "    </tr>\n",
       "    <tr>\n",
       "      <th>297</th>\n",
       "      <td>C0298</td>\n",
       "      <td>Julia</td>\n",
       "      <td>Pérez</td>\n",
       "      <td>Bilbao, España</td>\n",
       "    </tr>\n",
       "    <tr>\n",
       "      <th>298</th>\n",
       "      <td>C0299</td>\n",
       "      <td>Ana</td>\n",
       "      <td>Rodríguez</td>\n",
       "      <td>Sevilla, España</td>\n",
       "    </tr>\n",
       "    <tr>\n",
       "      <th>299</th>\n",
       "      <td>C0300</td>\n",
       "      <td>Carmen</td>\n",
       "      <td>Pérez</td>\n",
       "      <td>Aveiro, Portugal</td>\n",
       "    </tr>\n",
       "  </tbody>\n",
       "</table>\n",
       "<p>300 rows × 4 columns</p>\n",
       "</div>"
      ],
      "text/plain": [
       "    id_cliente  nombre   apellido            ciudad\n",
       "0        C0001   Julia      López   Granada, España\n",
       "1        C0002   Elena   Martínez   Granada, España\n",
       "2        C0003   Laura    Sánchez     Lyon, Francia\n",
       "3        C0004   Marta      López  Valencia, España\n",
       "4        C0005     Ana   Martínez    París, Francia\n",
       "..         ...     ...        ...               ...\n",
       "295      C0296   Elena  Rodríguez   Sevilla, España\n",
       "296      C0297   Marta  Rodríguez  Zaragoza, España\n",
       "297      C0298   Julia      Pérez    Bilbao, España\n",
       "298      C0299     Ana  Rodríguez   Sevilla, España\n",
       "299      C0300  Carmen      Pérez  Aveiro, Portugal\n",
       "\n",
       "[300 rows x 4 columns]"
      ]
     },
     "execution_count": 42,
     "metadata": {},
     "output_type": "execute_result"
    }
   ],
   "source": [
    "df_c"
   ]
  }
 ],
 "metadata": {
  "kernelspec": {
   "display_name": "base",
   "language": "python",
   "name": "python3"
  },
  "language_info": {
   "codemirror_mode": {
    "name": "ipython",
    "version": 3
   },
   "file_extension": ".py",
   "mimetype": "text/x-python",
   "name": "python",
   "nbconvert_exporter": "python",
   "pygments_lexer": "ipython3",
   "version": "3.12.4"
  }
 },
 "nbformat": 4,
 "nbformat_minor": 2
}
